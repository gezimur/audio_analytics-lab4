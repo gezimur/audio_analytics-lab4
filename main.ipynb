{
 "cells": [
  {
   "cell_type": "code",
   "execution_count": 4,
   "metadata": {},
   "outputs": [
    {
     "name": "stderr",
     "output_type": "stream",
     "text": [
      "g:\\python3.9.5\\lib\\site-packages\\tqdm\\auto.py:21: TqdmWarning: IProgress not found. Please update jupyter and ipywidgets. See https://ipywidgets.readthedocs.io/en/stable/user_install.html\n",
      "  from .autonotebook import tqdm as notebook_tqdm\n"
     ]
    }
   ],
   "source": [
    "import matplotlib.pyplot as plt\n",
    "\n",
    "import librosa\n",
    "from librosa.feature import melspectrogram\n",
    "from librosa.core import load\n",
    "from librosa.display import specshow\n",
    "from librosa import power_to_db\n",
    "\n",
    "import numpy as np\n",
    "import pandas as pd\n",
    "import random\n",
    "import os\n",
    "import pickle\n",
    "\n",
    "from tqdm import tqdm\n",
    "\n",
    "import torch\n",
    "import torch.nn.functional as F\n",
    "import torch.nn as nn\n",
    "import torch.optim as optim    \n",
    "from torch.utils.data import Dataset\n",
    "from torch.utils.data import DataLoader\n",
    "\n",
    "from sklearn.metrics import accuracy_score\n",
    "from sklearn.model_selection import train_test_split\n",
    "\n",
    "from transformers import AutoFeatureExtractor\n",
    "from transformers import ASTForAudioClassification\n",
    "\n",
    "import collections"
   ]
  },
  {
   "cell_type": "code",
   "execution_count": 19,
   "metadata": {},
   "outputs": [],
   "source": [
    "feature_extractor = AutoFeatureExtractor.from_pretrained(\"MIT/ast-finetuned-audioset-10-10-0.4593\")"
   ]
  },
  {
   "cell_type": "code",
   "execution_count": 42,
   "metadata": {},
   "outputs": [],
   "source": [
    "# def make_noises():\n",
    "#     normal_noise = np.random.normal(mean, 0.001, size=num_samples)\n",
    "\n",
    "class FeatureExtractor():\n",
    "    def __init__(self, extractor):\n",
    "        self.extractor = extractor\n",
    "        self.cashed_audio = collections.deque(maxlen=10)\n",
    "        \n",
    "    def add_white_noise(self, wav):\n",
    "        noise_power = (sum(wav ** 2) ** 0.5) / (5 * len(wav))\n",
    "        noise = np.random.normal(0, noise_power, size=len(wav))\n",
    "        return wav + noise\n",
    "    \n",
    "    def add_random_sounds(self, wav, cnt):\n",
    "        rnd = np.random.default_rng()\n",
    "        noises = rnd.integers(low=0, high=len(self.cashed_audio) - 1, size=cnt)\n",
    "        alpha = 0.98\n",
    "        return alpha * wav + (1 - alpha) * sum(noises) / len(noises)\n",
    "    \n",
    "    def make_feature(self, wav, sr):\n",
    "        res = []\n",
    "        \n",
    "        noised_wav = self.add_white_noise(wav)\n",
    "        res.append(self.extractor(noised_wav, sampling_rate=sr)['input_values'])\n",
    "        \n",
    "        if len(self.cashed_audio) > 1:\n",
    "            noised_wav = self.add_random_sounds(wav, 1)\n",
    "            res.append(self.extractor(noised_wav, sampling_rate=sr)['input_values'])\n",
    "        \n",
    "        if len(self.cashed_audio) > 2:\n",
    "            noised_wav = self.add_random_sounds(wav, 2)\n",
    "            res.append(self.extractor(noised_wav, sampling_rate=sr)['input_values'])\n",
    "        \n",
    "        self.cashed_audio.append(wav)\n",
    "        \n",
    "        return res\n",
    "\n",
    "def make_features(path, sr, extractor):\n",
    "    wav_data, sr = load(path, sr=sr)\n",
    "    \n",
    "    if len(wav_data) == 0:\n",
    "        wav_data = np.zeros(sr)\n",
    "    \n",
    "    return extractor.make_feature(wav_data, sr)\n",
    "\n",
    "def store_train_features(file_label:dict, path_to_files, out_path, sr, extractor):\n",
    "    feats = []\n",
    "    \n",
    "    print('Total files:', len(file_label))\n",
    "    \n",
    "    specific_extractor = FeatureExtractor(extractor)\n",
    "    \n",
    "    for i, (file_name, label) in tqdm(enumerate(file_label.items())):\n",
    "        features = make_features(os.path.join(path_to_files, file_name), sr, specific_extractor)\n",
    "        \n",
    "        for f in features:\n",
    "            feats.append({\n",
    "                'fname': file_name,\n",
    "                'feature': f,\n",
    "                'label_id': label\n",
    "            })\n",
    "        \n",
    "    pickle.dump(feats, open(out_path, 'wb'))\n",
    "    \n",
    "def read_labels_info(path_to_csv):\n",
    "    meta = pd.read_csv(path_to_csv, skiprows=1, names=['fname', 'label', 'manually_verified'])\n",
    "    label_to_id = {label: i for i, label in enumerate(set(meta['label']))}\n",
    "    meta['label_id'] = [label_to_id[label] for label in meta['label']]\n",
    "    \n",
    "    return meta\n",
    "    \n",
    "def make_file_label_dict(labels_info):\n",
    "    return dict(zip(labels_info['fname'].values, labels_info['label_id'].values))"
   ]
  },
  {
   "cell_type": "code",
   "execution_count": 43,
   "metadata": {},
   "outputs": [],
   "source": [
    "train_folder = '../../data/train/'\n",
    "# test_folder = './data/audio_test/'\n",
    "\n",
    "sample_rate = 16000"
   ]
  },
  {
   "cell_type": "code",
   "execution_count": 44,
   "metadata": {},
   "outputs": [
    {
     "name": "stdout",
     "output_type": "stream",
     "text": [
      "Total files: 5683\n"
     ]
    },
    {
     "name": "stderr",
     "output_type": "stream",
     "text": [
      "5683it [04:03, 23.32it/s]\n"
     ]
    }
   ],
   "source": [
    "path_to_csv = os.path.join('../../data/', 'train.csv')\n",
    "\n",
    "labels_info = read_labels_info(path_to_csv)\n",
    "\n",
    "pickle_train_path = os.path.join('train.pickle')\n",
    "\n",
    "store_train_features(make_file_label_dict(labels_info), train_folder, pickle_train_path, sample_rate, feature_extractor)"
   ]
  },
  {
   "cell_type": "code",
   "execution_count": 45,
   "metadata": {
    "scrolled": true
   },
   "outputs": [
    {
     "name": "stdout",
     "output_type": "stream",
     "text": [
      "1\n",
      "torch.Size([1, 1024, 128])\n"
     ]
    }
   ],
   "source": [
    "wav_data, sr = load(train_folder + '00abfb8903f34a38d7c3.wav', sr=sample_rate)\n",
    "res = feature_extractor(wav_data, sampling_rate=sr, return_tensors=\"pt\")\n",
    "\n",
    "print(len(res))\n",
    "print(res['input_values'].shape)"
   ]
  },
  {
   "cell_type": "code",
   "execution_count": 46,
   "metadata": {},
   "outputs": [],
   "source": [
    "import pickle\n",
    "import os\n",
    "from sklearn.model_selection import train_test_split\n",
    "\n",
    "pickle_train_path = os.path.join('train.pickle')\n",
    "pickle_train_data = pd.DataFrame(pickle.load(open(pickle_train_path, 'rb')))\n",
    "\n",
    "x_tr, x_val, y_tr, y_val = train_test_split(pickle_train_data['feature'].values, \n",
    "                                            pickle_train_data['label_id'].values, \n",
    "                                            test_size=0.25)"
   ]
  },
  {
   "cell_type": "code",
   "execution_count": 51,
   "metadata": {},
   "outputs": [
    {
     "name": "stdout",
     "output_type": "stream",
     "text": [
      "[[[-1.2128524  -1.2775939  -1.158659   ... -0.6408719  -0.49223962\n",
      "   -0.579536  ]\n",
      "  [-1.191726   -1.2775939  -1.1622274  ... -0.6212456  -0.6720337\n",
      "   -0.54846805]\n",
      "  [-1.2061108  -1.2775939  -1.2562853  ... -0.5399623  -0.5562741\n",
      "   -0.48124805]\n",
      "  ...\n",
      "  [ 0.46703237  0.46703237  0.46703237 ...  0.46703237  0.46703237\n",
      "    0.46703237]\n",
      "  [ 0.46703237  0.46703237  0.46703237 ...  0.46703237  0.46703237\n",
      "    0.46703237]\n",
      "  [ 0.46703237  0.46703237  0.46703237 ...  0.46703237  0.46703237\n",
      "    0.46703237]]]\n"
     ]
    },
    {
     "data": {
      "image/png": "[encoded data removed]",
      "text/plain": [
       "<Figure size 640x480 with 2 Axes>"
      ]
     },
     "metadata": {},
     "output_type": "display_data"
    }
   ],
   "source": [
    "def print_features(features, title=None):\n",
    "    plt.imshow(features, cmap='gray')\n",
    "    \n",
    "    plt.colorbar(format=\"%+2.f dB\")\n",
    "    plt.show()\n",
    "    \n",
    "print(np.asarray(x_tr[0]))\n",
    "print_features(np.asarray(x_tr[5][0]))"
   ]
  },
  {
   "cell_type": "code",
   "execution_count": 52,
   "metadata": {},
   "outputs": [
    {
     "data": {
      "text/plain": [
       "'Knock'"
      ]
     },
     "execution_count": 52,
     "metadata": {},
     "output_type": "execute_result"
    }
   ],
   "source": [
    "model = ASTForAudioClassification.from_pretrained(\"MIT/ast-finetuned-audioset-10-10-0.4593\")\n",
    "# inputs = feature_extractor(, sampling_rate=sample_rate, return_tensors=\"pt\")\n",
    "\n",
    "with torch.no_grad():\n",
    "    logits = model(torch.from_numpy(np.asarray(x_tr[0]))).logits\n",
    "\n",
    "predicted_class_ids = torch.argmax(logits, dim=-1).item()\n",
    "predicted_label = model.config.id2label[predicted_class_ids]\n",
    "predicted_label"
   ]
  },
  {
   "cell_type": "code",
   "execution_count": 53,
   "metadata": {},
   "outputs": [
    {
     "data": {
      "text/plain": [
       "ASTForAudioClassification(\n",
       "  (audio_spectrogram_transformer): ASTModel(\n",
       "    (embeddings): ASTEmbeddings(\n",
       "      (patch_embeddings): ASTPatchEmbeddings(\n",
       "        (projection): Conv2d(1, 768, kernel_size=(16, 16), stride=(10, 10))\n",
       "      )\n",
       "      (dropout): Dropout(p=0.0, inplace=False)\n",
       "    )\n",
       "    (encoder): ASTEncoder(\n",
       "      (layer): ModuleList(\n",
       "        (0-11): 12 x ASTLayer(\n",
       "          (attention): ASTAttention(\n",
       "            (attention): ASTSelfAttention(\n",
       "              (query): Linear(in_features=768, out_features=768, bias=True)\n",
       "              (key): Linear(in_features=768, out_features=768, bias=True)\n",
       "              (value): Linear(in_features=768, out_features=768, bias=True)\n",
       "              (dropout): Dropout(p=0.0, inplace=False)\n",
       "            )\n",
       "            (output): ASTSelfOutput(\n",
       "              (dense): Linear(in_features=768, out_features=768, bias=True)\n",
       "              (dropout): Dropout(p=0.0, inplace=False)\n",
       "            )\n",
       "          )\n",
       "          (intermediate): ASTIntermediate(\n",
       "            (dense): Linear(in_features=768, out_features=3072, bias=True)\n",
       "            (intermediate_act_fn): GELUActivation()\n",
       "          )\n",
       "          (output): ASTOutput(\n",
       "            (dense): Linear(in_features=3072, out_features=768, bias=True)\n",
       "            (dropout): Dropout(p=0.0, inplace=False)\n",
       "          )\n",
       "          (layernorm_before): LayerNorm((768,), eps=1e-12, elementwise_affine=True)\n",
       "          (layernorm_after): LayerNorm((768,), eps=1e-12, elementwise_affine=True)\n",
       "        )\n",
       "      )\n",
       "    )\n",
       "    (layernorm): LayerNorm((768,), eps=1e-12, elementwise_affine=True)\n",
       "  )\n",
       "  (classifier): ASTMLPHead(\n",
       "    (layernorm): LayerNorm((768,), eps=1e-12, elementwise_affine=True)\n",
       "    (dense): Linear(in_features=768, out_features=527, bias=True)\n",
       "  )\n",
       ")"
      ]
     },
     "execution_count": 53,
     "metadata": {},
     "output_type": "execute_result"
    }
   ],
   "source": [
    "model"
   ]
  },
  {
   "cell_type": "code",
   "execution_count": 54,
   "metadata": {},
   "outputs": [],
   "source": [
    "class ResNet(nn.Module):\n",
    "    def __init__(self, pretrained):\n",
    "        super(ResNet, self).__init__()\n",
    "\n",
    "        self.main = pretrained\n",
    "\n",
    "        self.main.classifier.dense = nn.Linear(768, 41)\n",
    "\n",
    "    def forward(self, x):\n",
    "        x = self.main(x)\n",
    "\n",
    "        return F.sigmoid(x.logits)"
   ]
  },
  {
   "cell_type": "code",
   "execution_count": 55,
   "metadata": {},
   "outputs": [
    {
     "data": {
      "text/plain": [
       "ResNet(\n",
       "  (main): ASTForAudioClassification(\n",
       "    (audio_spectrogram_transformer): ASTModel(\n",
       "      (embeddings): ASTEmbeddings(\n",
       "        (patch_embeddings): ASTPatchEmbeddings(\n",
       "          (projection): Conv2d(1, 768, kernel_size=(16, 16), stride=(10, 10))\n",
       "        )\n",
       "        (dropout): Dropout(p=0.0, inplace=False)\n",
       "      )\n",
       "      (encoder): ASTEncoder(\n",
       "        (layer): ModuleList(\n",
       "          (0-11): 12 x ASTLayer(\n",
       "            (attention): ASTAttention(\n",
       "              (attention): ASTSelfAttention(\n",
       "                (query): Linear(in_features=768, out_features=768, bias=True)\n",
       "                (key): Linear(in_features=768, out_features=768, bias=True)\n",
       "                (value): Linear(in_features=768, out_features=768, bias=True)\n",
       "                (dropout): Dropout(p=0.0, inplace=False)\n",
       "              )\n",
       "              (output): ASTSelfOutput(\n",
       "                (dense): Linear(in_features=768, out_features=768, bias=True)\n",
       "                (dropout): Dropout(p=0.0, inplace=False)\n",
       "              )\n",
       "            )\n",
       "            (intermediate): ASTIntermediate(\n",
       "              (dense): Linear(in_features=768, out_features=3072, bias=True)\n",
       "              (intermediate_act_fn): GELUActivation()\n",
       "            )\n",
       "            (output): ASTOutput(\n",
       "              (dense): Linear(in_features=3072, out_features=768, bias=True)\n",
       "              (dropout): Dropout(p=0.0, inplace=False)\n",
       "            )\n",
       "            (layernorm_before): LayerNorm((768,), eps=1e-12, elementwise_affine=True)\n",
       "            (layernorm_after): LayerNorm((768,), eps=1e-12, elementwise_affine=True)\n",
       "          )\n",
       "        )\n",
       "      )\n",
       "      (layernorm): LayerNorm((768,), eps=1e-12, elementwise_affine=True)\n",
       "    )\n",
       "    (classifier): ASTMLPHead(\n",
       "      (layernorm): LayerNorm((768,), eps=1e-12, elementwise_affine=True)\n",
       "      (dense): Linear(in_features=768, out_features=41, bias=True)\n",
       "    )\n",
       "  )\n",
       ")"
      ]
     },
     "execution_count": 55,
     "metadata": {},
     "output_type": "execute_result"
    }
   ],
   "source": [
    "ResNet(model)"
   ]
  },
  {
   "cell_type": "code",
   "execution_count": 13,
   "metadata": {},
   "outputs": [],
   "source": [
    "class EventDetectionDataset(Dataset):\n",
    "    def __init__(self, x, y=None):\n",
    "        self.x = x\n",
    "        self.y = y\n",
    "    \n",
    "    def __len__(self):\n",
    "        return len(self.x)\n",
    "\n",
    "    def __getitem__(self, idx):\n",
    "        current = torch.Tensor(self.x[idx][0])\n",
    "        if self.y is not None:\n",
    "            return current, self.y[idx]\n",
    "        return current"
   ]
  },
  {
   "cell_type": "code",
   "execution_count": 14,
   "metadata": {},
   "outputs": [],
   "source": [
    "train_dset = EventDetectionDataset(x_tr[:1000], y_tr[:1000])\n",
    "train_loader = DataLoader(train_dset, batch_size=1, shuffle=True, num_workers=0)\n",
    "\n",
    "val_dset = EventDetectionDataset(x_val, y_val)\n",
    "val_loader = DataLoader(val_dset, batch_size=1, shuffle=False, num_workers=0)"
   ]
  },
  {
   "cell_type": "code",
   "execution_count": 15,
   "metadata": {},
   "outputs": [],
   "source": [
    "def init_random_state(random_state:int=0):\n",
    "    random.seed(random_state)\n",
    "    np.random.seed(random_state)\n",
    "    torch.manual_seed(random_state)\n",
    "\n",
    "    if torch.cuda.is_available():\n",
    "        torch.cuda.manual_seed(random_state)\n",
    "        torch.cuda.manual_seed_all(random_state)\n",
    "        \n",
    "random_state = 11\n",
    "\n",
    "os.environ[\"PYTHONHASHSEED\"] = str(random_state)\n",
    "os.environ[\"CUBLAS_WORKSPACE_CONFIG\"] = \":4096:8\"\n",
    "\n",
    "torch.use_deterministic_algorithms(False)\n",
    "torch.backends.cudnn.deterministic = False\n",
    "torch.backends.cudnn.benchmark = True\n",
    "\n",
    "init_random_state(random_state)"
   ]
  },
  {
   "cell_type": "code",
   "execution_count": 16,
   "metadata": {},
   "outputs": [
    {
     "name": "stdout",
     "output_type": "stream",
     "text": [
      "torch.Size([1, 1024, 128])\n"
     ]
    }
   ],
   "source": [
    "for feture, label in train_loader:\n",
    "    network = ResNet(model)\n",
    "    print(feture.shape)\n",
    "    network.to(\"cpu\")\n",
    "    output = network(feture)\n",
    "    break"
   ]
  },
  {
   "cell_type": "code",
   "execution_count": 17,
   "metadata": {},
   "outputs": [
    {
     "name": "stdout",
     "output_type": "stream",
     "text": [
      "epoch # 0\n"
     ]
    },
    {
     "name": "stderr",
     "output_type": "stream",
     "text": [
      "1000it [05:31,  3.01it/s]\n"
     ]
    },
    {
     "name": "stdout",
     "output_type": "stream",
     "text": [
      "mean train loss: 3.590038162946701\n",
      "train accuracy: 0.164\n",
      "mean val loss: 3.4753181027907267\n",
      "val accuracy: 0.362121567707111\n",
      "epoch # 1\n"
     ]
    },
    {
     "name": "stderr",
     "output_type": "stream",
     "text": [
      "1000it [05:30,  3.02it/s]\n"
     ]
    },
    {
     "name": "stdout",
     "output_type": "stream",
     "text": [
      "mean train loss: 3.358804944038391\n",
      "train accuracy: 0.565\n",
      "mean val loss: 3.327891613054488\n",
      "val accuracy: 0.5907064069467262\n",
      "epoch # 2\n"
     ]
    },
    {
     "name": "stderr",
     "output_type": "stream",
     "text": [
      "1000it [05:57,  2.80it/s]\n"
     ]
    },
    {
     "name": "stdout",
     "output_type": "stream",
     "text": [
      "mean train loss: 3.2194290490150452\n",
      "train accuracy: 0.774\n",
      "mean val loss: 3.235935679178119\n",
      "val accuracy: 0.681764843933349\n",
      "epoch # 3\n"
     ]
    },
    {
     "name": "stderr",
     "output_type": "stream",
     "text": [
      "1000it [05:40,  2.94it/s]\n"
     ]
    },
    {
     "name": "stdout",
     "output_type": "stream",
     "text": [
      "mean train loss: 3.1281958644390104\n",
      "train accuracy: 0.859\n",
      "mean val loss: 3.1749300735709087\n",
      "val accuracy: 0.722365641868106\n",
      "epoch # 4\n"
     ]
    },
    {
     "name": "stderr",
     "output_type": "stream",
     "text": [
      "1000it [05:35,  2.98it/s]\n"
     ]
    },
    {
     "name": "stdout",
     "output_type": "stream",
     "text": [
      "mean train loss: 3.0648808598518373\n",
      "train accuracy: 0.908\n",
      "mean val loss: 3.1346883035215294\n",
      "val accuracy: 0.7444261910349683\n",
      "epoch # 5\n"
     ]
    },
    {
     "name": "stderr",
     "output_type": "stream",
     "text": [
      "1000it [05:39,  2.95it/s]\n"
     ]
    },
    {
     "name": "stdout",
     "output_type": "stream",
     "text": [
      "mean train loss: 3.017331233739853\n",
      "train accuracy: 0.935\n",
      "mean val loss: 3.1073279455776257\n",
      "val accuracy: 0.7608542595634827\n",
      "epoch # 6\n"
     ]
    },
    {
     "name": "stderr",
     "output_type": "stream",
     "text": [
      "1000it [05:42,  2.92it/s]\n"
     ]
    },
    {
     "name": "stdout",
     "output_type": "stream",
     "text": [
      "mean train loss: 2.9803352839946746\n",
      "train accuracy: 0.96\n",
      "mean val loss: 3.0843102558765354\n",
      "val accuracy: 0.7786904482515842\n",
      "epoch # 7\n"
     ]
    },
    {
     "name": "stderr",
     "output_type": "stream",
     "text": [
      "1000it [05:42,  2.92it/s]\n"
     ]
    },
    {
     "name": "stdout",
     "output_type": "stream",
     "text": [
      "mean train loss: 2.9504645252227784\n",
      "train accuracy: 0.975\n",
      "mean val loss: 3.0661739589070747\n",
      "val accuracy: 0.7775170147852617\n",
      "epoch # 8\n"
     ]
    },
    {
     "name": "stderr",
     "output_type": "stream",
     "text": [
      "1000it [05:40,  2.94it/s]\n"
     ]
    },
    {
     "name": "stdout",
     "output_type": "stream",
     "text": [
      "mean train loss: 2.925187318563461\n",
      "train accuracy: 0.979\n",
      "mean val loss: 3.049293174678746\n",
      "val accuracy: 0.7906594696080732\n",
      "epoch # 9\n"
     ]
    },
    {
     "name": "stderr",
     "output_type": "stream",
     "text": [
      "1000it [05:40,  2.94it/s]\n"
     ]
    },
    {
     "name": "stdout",
     "output_type": "stream",
     "text": [
      "mean train loss: 2.9032511858940127\n",
      "train accuracy: 0.985\n",
      "mean val loss: 3.035915167055844\n",
      "val accuracy: 0.797700070406008\n"
     ]
    }
   ],
   "source": [
    "import torch.optim as optim\n",
    "\n",
    "device = torch.device(\"cuda:0\" if torch.cuda.is_available() else \"cpu\")\n",
    "\n",
    "n_epoch = 10\n",
    "criterion = nn.CrossEntropyLoss()\n",
    "network = ResNet(model)\n",
    "network.to(device)\n",
    "optimizer = optim.AdamW(network.parameters(), lr=0.000001)\n",
    "\n",
    "train_loss = []\n",
    "val_loss = []\n",
    "\n",
    "train_acc = []\n",
    "val_acc = []\n",
    "\n",
    "for e in range(n_epoch):\n",
    "    print('epoch #', e)\n",
    "    # train\n",
    "    loss_list = []\n",
    "    outputs = []\n",
    "    targets = []\n",
    "    for i_batch, sample_batched in tqdm(enumerate(train_loader)):\n",
    "        x, y = sample_batched\n",
    "        optimizer.zero_grad()\n",
    "\n",
    "        output = network(x.to(device))\n",
    "        outputs.append(output.argmax(axis=1))\n",
    "    \n",
    "        target = y.to(device)\n",
    "        targets.append(target)\n",
    "                                                                                                                                                                                                                                                                                                                                                                                                                                                                                                                                                                                                                                                                                                                                                                                                                                                                                                                                                                                                                                                                                                                                                                                                                                                                                                                                                                                                                                                                                                                                                                                                                                                                                                                                                                                                                                                                                                                                                                                                                                                                                                                                                                                                                                                                                                                                                                                                                                                                                                                                                                                                                                                                                                                                                                                                                                                                                                                                                                                                                                                                                                                                                                                                                                                                                                                                                                                                                                                                                                                                                                                                                                                                                                                                                                                                                                                                                                                                                                                                                                                                                                                                                                                                                                                                                                                                                                                                                                                                                                                                                                                                                                                                                                                                                                                                                                                                                                                                                                                                                                                                                                                                                                                                                                                                                                                                                                                                                                                                                                                                                                                                                                                                                                                                                                                                                                                                                                                                                                                                                                                                                                                                                                                                                                                                                                                                                                                                                                                                                                                                                                                                                                                                                                                                                                                                                                                                                                                                                                                                                                                                                                                                                                                                                                                                                                                                                                                                                                                                                                                                                                                                                                                                                                                                                                                                                                                                                                                                                                                                                                                                                                                                                                                                                                                                                                                                                                                                                                                                                                                                                                                                                                                                                                                                                                                                                                                                                                                                                                                                                \n",
    "        loss = criterion(output, target.long())\n",
    "        loss_list.append(loss.item())\n",
    "        loss.backward()\n",
    "        optimizer.step()\n",
    "    y_true = torch.hstack(targets).numpy(force=True)\n",
    "    y_pred = torch.hstack(outputs).numpy(force=True)\n",
    "    acc = accuracy_score(y_true, y_pred)\n",
    "    train_loss.append(np.mean(loss_list))\n",
    "    train_acc.append(acc)\n",
    "    print('mean train loss:', train_loss[-1])\n",
    "    print('train accuracy:', acc)\n",
    "    \n",
    "    \n",
    "    loss_list = []\n",
    "    outputs = []\n",
    "    targets = []\n",
    "    with torch.no_grad():\n",
    "        for i_batch, sample_batched in enumerate(val_loader):\n",
    "            x, y = sample_batched\n",
    "#             optimizer.zero_grad()\n",
    "\n",
    "            output = network(x.to(device))\n",
    "            outputs.append(output.argmax(axis=1))\n",
    "\n",
    "            target = y.to(device)\n",
    "            targets.append(target)\n",
    "\n",
    "            loss = criterion(output, target.long())\n",
    "            loss_list.append(loss.item())\n",
    "#             loss.backwrd()\n",
    "#             optimizer.step()\n",
    "            \n",
    "        y_true = torch.hstack(targets).numpy(force=True)\n",
    "        y_pred = torch.hstack(outputs).numpy(force=True)\n",
    "        acc = accuracy_score(y_true, y_pred)\n",
    "        val_loss.append(np.mean(loss_list))\n",
    "        val_acc.append(acc)\n",
    "        print('mean val loss:', val_loss[-1])\n",
    "        print('val accuracy:', acc)                                                                                                                                                                                                                                                                                                                                                                                             "
   ]
  },
  {
   "cell_type": "code",
   "execution_count": 18,
   "metadata": {
    "scrolled": true
   },
   "outputs": [
    {
     "data": {
      "image/png": "[encoded data removed]",
      "text/plain": [
       "<Figure size 640x480 with 1 Axes>"
      ]
     },
     "metadata": {},
     "output_type": "display_data"
    },
    {
     "data": {
      "image/png": "[encoded data removed]",
      "text/plain": [
       "<Figure size 640x480 with 1 Axes>"
      ]
     },
     "metadata": {},
     "output_type": "display_data"
    }
   ],
   "source": [
    "epochs = np.arange(1, n_epoch+1)\n",
    "\n",
    "axes = plt.gca()\n",
    "axes.set_ylim([0,max(max(train_loss), max(val_loss))+1])\n",
    "plt.plot(epochs, train_loss, 'r', label='train')\n",
    "plt.plot(epochs, val_loss, 'b', label='val')\n",
    "plt.title('loss')\n",
    "plt.xlabel('epoch number')\n",
    "plt.ylabel('loss value')\n",
    "plt.legend()\n",
    "plt.grid()\n",
    "plt.show()\n",
    "\n",
    "\n",
    "axes = plt.gca()\n",
    "axes.set_ylim([0,1])\n",
    "plt.plot(epochs, train_acc, 'r', label='train')\n",
    "plt.plot(epochs, val_acc, 'b', label='val')\n",
    "plt.title('accuracy')\n",
    "plt.xlabel('epoch number')\n",
    "plt.ylabel('accuracy value')\n",
    "plt.legend()\n",
    "plt.grid()\n",
    "plt.show()"
   ]
  },
  {
   "cell_type": "code",
   "execution_count": null,
   "metadata": {},
   "outputs": [],
   "source": []
  }
 ],
 "metadata": {
  "kernelspec": {
   "display_name": "Python 3 (ipykernel)",
   "language": "python",
   "name": "python3"
  },
  "language_info": {
   "codemirror_mode": {
    "name": "ipython",
    "version": 3
   },
   "file_extension": ".py",
   "mimetype": "text/x-python",
   "name": "python",
   "nbconvert_exporter": "python",
   "pygments_lexer": "ipython3",
   "version": "3.9.5"
  }
 },
 "nbformat": 4,
 "nbformat_minor": 4
}
